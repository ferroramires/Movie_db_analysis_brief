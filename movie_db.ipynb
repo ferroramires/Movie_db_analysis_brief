{
 "cells": [
  {
   "cell_type": "markdown",
   "metadata": {
    "tags": []
   },
   "source": [
    "# Project: Investigate a Dataset - [TMDb movie data]\n",
    "\n",
    "## Table of Contents\n",
    "<ul>\n",
    "<li><a href=\"#intro\">Introduction</a></li>\n",
    "<li><a href=\"#wrangling\">Data Wrangling</a></li>\n",
    "<li><a href=\"#eda\">Exploratory Data Analysis</a></li>\n",
    "<li><a href=\"#conclusions\">Conclusions</a></li>\n",
    "</ul>"
   ]
  },
  {
   "cell_type": "code",
   "execution_count": 4,
   "metadata": {},
   "outputs": [],
   "source": [
    "import pandas as pd\n",
    "import numpy as np\n",
    "from sklearn.metrics import r2_score\n",
    "from sklearn.linear_model import LinearRegression\n",
    "import matplotlib.pyplot as plt\n",
    "%matplotlib inline"
   ]
  },
  {
   "cell_type": "markdown",
   "metadata": {},
   "source": [
    "# Movie data analysis"
   ]
  },
  {
   "cell_type": "markdown",
   "metadata": {},
   "source": [
    "<a id='introduction'></a>\n",
    "## Introduction\n",
    "\n",
    "> This data set was taken from The Movie Database(TMDb), \"a community built movie and TV database\"(www.themoviedb.org/about).\n",
    ">\n",
    "> Each row corresponds to a movie and includes a range of data from it.\n",
    ">\n",
    "> Relevant data to be used in the analysis include the following variables:\n",
    "> \n",
    "> <ul>\n",
    "    <li>original_title</li>\n",
    "    <li>genres</li>\n",
    "    <li>revenue</li>\n",
    "    <li>budget</li>\n",
    "  </ul>\n",
    ">\n",
    "> In this report, I explore the following questions:\n",
    ">\n",
    "> <ol>\n",
    "    <li><a href='#1'>What is the average revenue per movie and is the revenue normally distributed?</a></li>\n",
    "    <li><a href='#2'>Of the total, how many movies made a profit? And how many made a loss?</a></li>\n",
    "    <li><a href='#3'>What is the average revenue per genre? Do some genres make more money?</a></li>\n",
    "    <li><a href='#4'>Does a higher budget translate to a higher revenue?</a></li>\n",
    "   </ol>\n",
    "    \n"
   ]
  },
  {
   "cell_type": "markdown",
   "metadata": {
    "tags": []
   },
   "source": [
    "<a id='wrangling'></a>\n",
    "## Data Wrangling\n"
   ]
  },
  {
   "cell_type": "markdown",
   "metadata": {
    "tags": []
   },
   "source": [
    "### Initial data exploration"
   ]
  },
  {
   "cell_type": "code",
   "execution_count": 6,
   "metadata": {},
   "outputs": [],
   "source": [
    "#Load Dataset from file\n",
    "movie_db = pd.read_csv('tmdb-movies.csv')"
   ]
  },
  {
   "cell_type": "code",
   "execution_count": 7,
   "metadata": {},
   "outputs": [
    {
     "data": {
      "text/html": [
       "<div>\n",
       "<style scoped>\n",
       "    .dataframe tbody tr th:only-of-type {\n",
       "        vertical-align: middle;\n",
       "    }\n",
       "\n",
       "    .dataframe tbody tr th {\n",
       "        vertical-align: top;\n",
       "    }\n",
       "\n",
       "    .dataframe thead th {\n",
       "        text-align: right;\n",
       "    }\n",
       "</style>\n",
       "<table border=\"1\" class=\"dataframe\">\n",
       "  <thead>\n",
       "    <tr style=\"text-align: right;\">\n",
       "      <th></th>\n",
       "      <th>id</th>\n",
       "      <th>imdb_id</th>\n",
       "      <th>popularity</th>\n",
       "      <th>budget</th>\n",
       "      <th>revenue</th>\n",
       "      <th>original_title</th>\n",
       "      <th>cast</th>\n",
       "      <th>homepage</th>\n",
       "      <th>director</th>\n",
       "      <th>tagline</th>\n",
       "      <th>...</th>\n",
       "      <th>overview</th>\n",
       "      <th>runtime</th>\n",
       "      <th>genres</th>\n",
       "      <th>production_companies</th>\n",
       "      <th>release_date</th>\n",
       "      <th>vote_count</th>\n",
       "      <th>vote_average</th>\n",
       "      <th>release_year</th>\n",
       "      <th>budget_adj</th>\n",
       "      <th>revenue_adj</th>\n",
       "    </tr>\n",
       "  </thead>\n",
       "  <tbody>\n",
       "    <tr>\n",
       "      <th>0</th>\n",
       "      <td>135397</td>\n",
       "      <td>tt0369610</td>\n",
       "      <td>32.985763</td>\n",
       "      <td>150000000</td>\n",
       "      <td>1513528810</td>\n",
       "      <td>Jurassic World</td>\n",
       "      <td>Chris Pratt|Bryce Dallas Howard|Irrfan Khan|Vi...</td>\n",
       "      <td>http://www.jurassicworld.com/</td>\n",
       "      <td>Colin Trevorrow</td>\n",
       "      <td>The park is open.</td>\n",
       "      <td>...</td>\n",
       "      <td>Twenty-two years after the events of Jurassic ...</td>\n",
       "      <td>124</td>\n",
       "      <td>Action|Adventure|Science Fiction|Thriller</td>\n",
       "      <td>Universal Studios|Amblin Entertainment|Legenda...</td>\n",
       "      <td>6/9/15</td>\n",
       "      <td>5562</td>\n",
       "      <td>6.5</td>\n",
       "      <td>2015</td>\n",
       "      <td>1.379999e+08</td>\n",
       "      <td>1.392446e+09</td>\n",
       "    </tr>\n",
       "    <tr>\n",
       "      <th>1</th>\n",
       "      <td>76341</td>\n",
       "      <td>tt1392190</td>\n",
       "      <td>28.419936</td>\n",
       "      <td>150000000</td>\n",
       "      <td>378436354</td>\n",
       "      <td>Mad Max: Fury Road</td>\n",
       "      <td>Tom Hardy|Charlize Theron|Hugh Keays-Byrne|Nic...</td>\n",
       "      <td>http://www.madmaxmovie.com/</td>\n",
       "      <td>George Miller</td>\n",
       "      <td>What a Lovely Day.</td>\n",
       "      <td>...</td>\n",
       "      <td>An apocalyptic story set in the furthest reach...</td>\n",
       "      <td>120</td>\n",
       "      <td>Action|Adventure|Science Fiction|Thriller</td>\n",
       "      <td>Village Roadshow Pictures|Kennedy Miller Produ...</td>\n",
       "      <td>5/13/15</td>\n",
       "      <td>6185</td>\n",
       "      <td>7.1</td>\n",
       "      <td>2015</td>\n",
       "      <td>1.379999e+08</td>\n",
       "      <td>3.481613e+08</td>\n",
       "    </tr>\n",
       "    <tr>\n",
       "      <th>2</th>\n",
       "      <td>262500</td>\n",
       "      <td>tt2908446</td>\n",
       "      <td>13.112507</td>\n",
       "      <td>110000000</td>\n",
       "      <td>295238201</td>\n",
       "      <td>Insurgent</td>\n",
       "      <td>Shailene Woodley|Theo James|Kate Winslet|Ansel...</td>\n",
       "      <td>http://www.thedivergentseries.movie/#insurgent</td>\n",
       "      <td>Robert Schwentke</td>\n",
       "      <td>One Choice Can Destroy You</td>\n",
       "      <td>...</td>\n",
       "      <td>Beatrice Prior must confront her inner demons ...</td>\n",
       "      <td>119</td>\n",
       "      <td>Adventure|Science Fiction|Thriller</td>\n",
       "      <td>Summit Entertainment|Mandeville Films|Red Wago...</td>\n",
       "      <td>3/18/15</td>\n",
       "      <td>2480</td>\n",
       "      <td>6.3</td>\n",
       "      <td>2015</td>\n",
       "      <td>1.012000e+08</td>\n",
       "      <td>2.716190e+08</td>\n",
       "    </tr>\n",
       "  </tbody>\n",
       "</table>\n",
       "<p>3 rows × 21 columns</p>\n",
       "</div>"
      ],
      "text/plain": [
       "       id    imdb_id  popularity     budget     revenue      original_title  \\\n",
       "0  135397  tt0369610   32.985763  150000000  1513528810      Jurassic World   \n",
       "1   76341  tt1392190   28.419936  150000000   378436354  Mad Max: Fury Road   \n",
       "2  262500  tt2908446   13.112507  110000000   295238201           Insurgent   \n",
       "\n",
       "                                                cast  \\\n",
       "0  Chris Pratt|Bryce Dallas Howard|Irrfan Khan|Vi...   \n",
       "1  Tom Hardy|Charlize Theron|Hugh Keays-Byrne|Nic...   \n",
       "2  Shailene Woodley|Theo James|Kate Winslet|Ansel...   \n",
       "\n",
       "                                         homepage          director  \\\n",
       "0                   http://www.jurassicworld.com/   Colin Trevorrow   \n",
       "1                     http://www.madmaxmovie.com/     George Miller   \n",
       "2  http://www.thedivergentseries.movie/#insurgent  Robert Schwentke   \n",
       "\n",
       "                      tagline  ...  \\\n",
       "0           The park is open.  ...   \n",
       "1          What a Lovely Day.  ...   \n",
       "2  One Choice Can Destroy You  ...   \n",
       "\n",
       "                                            overview runtime  \\\n",
       "0  Twenty-two years after the events of Jurassic ...     124   \n",
       "1  An apocalyptic story set in the furthest reach...     120   \n",
       "2  Beatrice Prior must confront her inner demons ...     119   \n",
       "\n",
       "                                      genres  \\\n",
       "0  Action|Adventure|Science Fiction|Thriller   \n",
       "1  Action|Adventure|Science Fiction|Thriller   \n",
       "2         Adventure|Science Fiction|Thriller   \n",
       "\n",
       "                                production_companies release_date vote_count  \\\n",
       "0  Universal Studios|Amblin Entertainment|Legenda...       6/9/15       5562   \n",
       "1  Village Roadshow Pictures|Kennedy Miller Produ...      5/13/15       6185   \n",
       "2  Summit Entertainment|Mandeville Films|Red Wago...      3/18/15       2480   \n",
       "\n",
       "   vote_average  release_year    budget_adj   revenue_adj  \n",
       "0           6.5          2015  1.379999e+08  1.392446e+09  \n",
       "1           7.1          2015  1.379999e+08  3.481613e+08  \n",
       "2           6.3          2015  1.012000e+08  2.716190e+08  \n",
       "\n",
       "[3 rows x 21 columns]"
      ]
     },
     "execution_count": 7,
     "metadata": {},
     "output_type": "execute_result"
    }
   ],
   "source": [
    "movie_db.head(3)"
   ]
  },
  {
   "cell_type": "code",
   "execution_count": 8,
   "metadata": {},
   "outputs": [
    {
     "data": {
      "text/plain": [
       "(10866, 21)"
      ]
     },
     "execution_count": 8,
     "metadata": {},
     "output_type": "execute_result"
    }
   ],
   "source": [
    "movie_db.shape"
   ]
  },
  {
   "cell_type": "code",
   "execution_count": 9,
   "metadata": {},
   "outputs": [
    {
     "name": "stdout",
     "output_type": "stream",
     "text": [
      "<class 'pandas.core.frame.DataFrame'>\n",
      "RangeIndex: 10866 entries, 0 to 10865\n",
      "Data columns (total 21 columns):\n",
      " #   Column                Non-Null Count  Dtype  \n",
      "---  ------                --------------  -----  \n",
      " 0   id                    10866 non-null  int64  \n",
      " 1   imdb_id               10856 non-null  object \n",
      " 2   popularity            10866 non-null  float64\n",
      " 3   budget                10866 non-null  int64  \n",
      " 4   revenue               10866 non-null  int64  \n",
      " 5   original_title        10866 non-null  object \n",
      " 6   cast                  10790 non-null  object \n",
      " 7   homepage              2936 non-null   object \n",
      " 8   director              10822 non-null  object \n",
      " 9   tagline               8042 non-null   object \n",
      " 10  keywords              9373 non-null   object \n",
      " 11  overview              10862 non-null  object \n",
      " 12  runtime               10866 non-null  int64  \n",
      " 13  genres                10843 non-null  object \n",
      " 14  production_companies  9836 non-null   object \n",
      " 15  release_date          10866 non-null  object \n",
      " 16  vote_count            10866 non-null  int64  \n",
      " 17  vote_average          10866 non-null  float64\n",
      " 18  release_year          10866 non-null  int64  \n",
      " 19  budget_adj            10866 non-null  float64\n",
      " 20  revenue_adj           10866 non-null  float64\n",
      "dtypes: float64(4), int64(6), object(11)\n",
      "memory usage: 1.7+ MB\n"
     ]
    }
   ],
   "source": [
    "movie_db.info()"
   ]
  },
  {
   "cell_type": "markdown",
   "metadata": {
    "tags": []
   },
   "source": [
    "### Data Cleaning"
   ]
  },
  {
   "cell_type": "code",
   "execution_count": 10,
   "metadata": {},
   "outputs": [
    {
     "data": {
      "text/plain": [
       "1"
      ]
     },
     "execution_count": 10,
     "metadata": {},
     "output_type": "execute_result"
    }
   ],
   "source": [
    "#Check if there are duplicates\n",
    "movie_db.duplicated().sum()"
   ]
  },
  {
   "cell_type": "code",
   "execution_count": 11,
   "metadata": {},
   "outputs": [],
   "source": [
    "#Since the ammount of duplicates won't possibly affect the analysis, the duplicate row will be dropped.\n",
    "movie_db.drop_duplicates(inplace=True)"
   ]
  },
  {
   "cell_type": "code",
   "execution_count": 12,
   "metadata": {},
   "outputs": [],
   "source": [
    "#create a new df to work on without columns we judge not useful in our analysis\n",
    "clean_db = movie_db.drop(['imdb_id', 'cast', 'homepage', 'tagline', 'overview','budget_adj','revenue_adj'], axis=1)"
   ]
  },
  {
   "cell_type": "code",
   "execution_count": 13,
   "metadata": {},
   "outputs": [
    {
     "data": {
      "text/html": [
       "<div>\n",
       "<style scoped>\n",
       "    .dataframe tbody tr th:only-of-type {\n",
       "        vertical-align: middle;\n",
       "    }\n",
       "\n",
       "    .dataframe tbody tr th {\n",
       "        vertical-align: top;\n",
       "    }\n",
       "\n",
       "    .dataframe thead th {\n",
       "        text-align: right;\n",
       "    }\n",
       "</style>\n",
       "<table border=\"1\" class=\"dataframe\">\n",
       "  <thead>\n",
       "    <tr style=\"text-align: right;\">\n",
       "      <th></th>\n",
       "      <th>id</th>\n",
       "      <th>popularity</th>\n",
       "      <th>budget</th>\n",
       "      <th>revenue</th>\n",
       "      <th>original_title</th>\n",
       "      <th>director</th>\n",
       "      <th>keywords</th>\n",
       "      <th>runtime</th>\n",
       "      <th>genres</th>\n",
       "      <th>production_companies</th>\n",
       "      <th>release_date</th>\n",
       "      <th>vote_count</th>\n",
       "      <th>vote_average</th>\n",
       "      <th>release_year</th>\n",
       "    </tr>\n",
       "  </thead>\n",
       "  <tbody>\n",
       "    <tr>\n",
       "      <th>0</th>\n",
       "      <td>135397</td>\n",
       "      <td>32.985763</td>\n",
       "      <td>150000000</td>\n",
       "      <td>1513528810</td>\n",
       "      <td>Jurassic World</td>\n",
       "      <td>Colin Trevorrow</td>\n",
       "      <td>monster|dna|tyrannosaurus rex|velociraptor|island</td>\n",
       "      <td>124</td>\n",
       "      <td>Action|Adventure|Science Fiction|Thriller</td>\n",
       "      <td>Universal Studios|Amblin Entertainment|Legenda...</td>\n",
       "      <td>6/9/15</td>\n",
       "      <td>5562</td>\n",
       "      <td>6.5</td>\n",
       "      <td>2015</td>\n",
       "    </tr>\n",
       "    <tr>\n",
       "      <th>1</th>\n",
       "      <td>76341</td>\n",
       "      <td>28.419936</td>\n",
       "      <td>150000000</td>\n",
       "      <td>378436354</td>\n",
       "      <td>Mad Max: Fury Road</td>\n",
       "      <td>George Miller</td>\n",
       "      <td>future|chase|post-apocalyptic|dystopia|australia</td>\n",
       "      <td>120</td>\n",
       "      <td>Action|Adventure|Science Fiction|Thriller</td>\n",
       "      <td>Village Roadshow Pictures|Kennedy Miller Produ...</td>\n",
       "      <td>5/13/15</td>\n",
       "      <td>6185</td>\n",
       "      <td>7.1</td>\n",
       "      <td>2015</td>\n",
       "    </tr>\n",
       "    <tr>\n",
       "      <th>2</th>\n",
       "      <td>262500</td>\n",
       "      <td>13.112507</td>\n",
       "      <td>110000000</td>\n",
       "      <td>295238201</td>\n",
       "      <td>Insurgent</td>\n",
       "      <td>Robert Schwentke</td>\n",
       "      <td>based on novel|revolution|dystopia|sequel|dyst...</td>\n",
       "      <td>119</td>\n",
       "      <td>Adventure|Science Fiction|Thriller</td>\n",
       "      <td>Summit Entertainment|Mandeville Films|Red Wago...</td>\n",
       "      <td>3/18/15</td>\n",
       "      <td>2480</td>\n",
       "      <td>6.3</td>\n",
       "      <td>2015</td>\n",
       "    </tr>\n",
       "    <tr>\n",
       "      <th>3</th>\n",
       "      <td>140607</td>\n",
       "      <td>11.173104</td>\n",
       "      <td>200000000</td>\n",
       "      <td>2068178225</td>\n",
       "      <td>Star Wars: The Force Awakens</td>\n",
       "      <td>J.J. Abrams</td>\n",
       "      <td>android|spaceship|jedi|space opera|3d</td>\n",
       "      <td>136</td>\n",
       "      <td>Action|Adventure|Science Fiction|Fantasy</td>\n",
       "      <td>Lucasfilm|Truenorth Productions|Bad Robot</td>\n",
       "      <td>12/15/15</td>\n",
       "      <td>5292</td>\n",
       "      <td>7.5</td>\n",
       "      <td>2015</td>\n",
       "    </tr>\n",
       "    <tr>\n",
       "      <th>4</th>\n",
       "      <td>168259</td>\n",
       "      <td>9.335014</td>\n",
       "      <td>190000000</td>\n",
       "      <td>1506249360</td>\n",
       "      <td>Furious 7</td>\n",
       "      <td>James Wan</td>\n",
       "      <td>car race|speed|revenge|suspense|car</td>\n",
       "      <td>137</td>\n",
       "      <td>Action|Crime|Thriller</td>\n",
       "      <td>Universal Pictures|Original Film|Media Rights ...</td>\n",
       "      <td>4/1/15</td>\n",
       "      <td>2947</td>\n",
       "      <td>7.3</td>\n",
       "      <td>2015</td>\n",
       "    </tr>\n",
       "  </tbody>\n",
       "</table>\n",
       "</div>"
      ],
      "text/plain": [
       "       id  popularity     budget     revenue                original_title  \\\n",
       "0  135397   32.985763  150000000  1513528810                Jurassic World   \n",
       "1   76341   28.419936  150000000   378436354            Mad Max: Fury Road   \n",
       "2  262500   13.112507  110000000   295238201                     Insurgent   \n",
       "3  140607   11.173104  200000000  2068178225  Star Wars: The Force Awakens   \n",
       "4  168259    9.335014  190000000  1506249360                     Furious 7   \n",
       "\n",
       "           director                                           keywords  \\\n",
       "0   Colin Trevorrow  monster|dna|tyrannosaurus rex|velociraptor|island   \n",
       "1     George Miller   future|chase|post-apocalyptic|dystopia|australia   \n",
       "2  Robert Schwentke  based on novel|revolution|dystopia|sequel|dyst...   \n",
       "3       J.J. Abrams              android|spaceship|jedi|space opera|3d   \n",
       "4         James Wan                car race|speed|revenge|suspense|car   \n",
       "\n",
       "   runtime                                     genres  \\\n",
       "0      124  Action|Adventure|Science Fiction|Thriller   \n",
       "1      120  Action|Adventure|Science Fiction|Thriller   \n",
       "2      119         Adventure|Science Fiction|Thriller   \n",
       "3      136   Action|Adventure|Science Fiction|Fantasy   \n",
       "4      137                      Action|Crime|Thriller   \n",
       "\n",
       "                                production_companies release_date  vote_count  \\\n",
       "0  Universal Studios|Amblin Entertainment|Legenda...       6/9/15        5562   \n",
       "1  Village Roadshow Pictures|Kennedy Miller Produ...      5/13/15        6185   \n",
       "2  Summit Entertainment|Mandeville Films|Red Wago...      3/18/15        2480   \n",
       "3          Lucasfilm|Truenorth Productions|Bad Robot     12/15/15        5292   \n",
       "4  Universal Pictures|Original Film|Media Rights ...       4/1/15        2947   \n",
       "\n",
       "   vote_average  release_year  \n",
       "0           6.5          2015  \n",
       "1           7.1          2015  \n",
       "2           6.3          2015  \n",
       "3           7.5          2015  \n",
       "4           7.3          2015  "
      ]
     },
     "execution_count": 13,
     "metadata": {},
     "output_type": "execute_result"
    }
   ],
   "source": [
    "clean_db.head()"
   ]
  },
  {
   "cell_type": "code",
   "execution_count": 14,
   "metadata": {
    "scrolled": true
   },
   "outputs": [
    {
     "data": {
      "text/html": [
       "<div>\n",
       "<style scoped>\n",
       "    .dataframe tbody tr th:only-of-type {\n",
       "        vertical-align: middle;\n",
       "    }\n",
       "\n",
       "    .dataframe tbody tr th {\n",
       "        vertical-align: top;\n",
       "    }\n",
       "\n",
       "    .dataframe thead th {\n",
       "        text-align: right;\n",
       "    }\n",
       "</style>\n",
       "<table border=\"1\" class=\"dataframe\">\n",
       "  <thead>\n",
       "    <tr style=\"text-align: right;\">\n",
       "      <th></th>\n",
       "      <th>id</th>\n",
       "      <th>popularity</th>\n",
       "      <th>budget</th>\n",
       "      <th>revenue</th>\n",
       "      <th>original_title</th>\n",
       "      <th>director</th>\n",
       "      <th>keywords</th>\n",
       "      <th>runtime</th>\n",
       "      <th>genres</th>\n",
       "      <th>production_companies</th>\n",
       "      <th>release_date</th>\n",
       "      <th>vote_count</th>\n",
       "      <th>vote_average</th>\n",
       "      <th>release_year</th>\n",
       "    </tr>\n",
       "  </thead>\n",
       "  <tbody>\n",
       "    <tr>\n",
       "      <th>130</th>\n",
       "      <td>245706</td>\n",
       "      <td>1.284541</td>\n",
       "      <td>0</td>\n",
       "      <td>4719695</td>\n",
       "      <td>True Story</td>\n",
       "      <td>Rupert Goold</td>\n",
       "      <td>NaN</td>\n",
       "      <td>100</td>\n",
       "      <td>Crime|Drama|Mystery</td>\n",
       "      <td>Plan B Entertainment|Regency Enterprises|New R...</td>\n",
       "      <td>4/17/15</td>\n",
       "      <td>354</td>\n",
       "      <td>6.0</td>\n",
       "      <td>2015</td>\n",
       "    </tr>\n",
       "    <tr>\n",
       "      <th>149</th>\n",
       "      <td>346808</td>\n",
       "      <td>1.041922</td>\n",
       "      <td>20000000</td>\n",
       "      <td>0</td>\n",
       "      <td>Momentum</td>\n",
       "      <td>Stephen S. Campanelli</td>\n",
       "      <td>NaN</td>\n",
       "      <td>96</td>\n",
       "      <td>Thriller|Action</td>\n",
       "      <td>Thaba Media|Azari Media</td>\n",
       "      <td>8/1/15</td>\n",
       "      <td>100</td>\n",
       "      <td>5.8</td>\n",
       "      <td>2015</td>\n",
       "    </tr>\n",
       "    <tr>\n",
       "      <th>154</th>\n",
       "      <td>314405</td>\n",
       "      <td>1.008474</td>\n",
       "      <td>12000000</td>\n",
       "      <td>0</td>\n",
       "      <td>Il racconto dei racconti</td>\n",
       "      <td>Matteo Garrone</td>\n",
       "      <td>NaN</td>\n",
       "      <td>125</td>\n",
       "      <td>Romance|Fantasy|Horror</td>\n",
       "      <td>HanWay Films|Rai Cinema|Le Pacte|Fonds Eurimag...</td>\n",
       "      <td>5/14/15</td>\n",
       "      <td>211</td>\n",
       "      <td>5.7</td>\n",
       "      <td>2015</td>\n",
       "    </tr>\n",
       "    <tr>\n",
       "      <th>155</th>\n",
       "      <td>282984</td>\n",
       "      <td>1.007054</td>\n",
       "      <td>11000000</td>\n",
       "      <td>27391084</td>\n",
       "      <td>Irrational Man</td>\n",
       "      <td>Woody Allen</td>\n",
       "      <td>NaN</td>\n",
       "      <td>95</td>\n",
       "      <td>Mystery|Drama</td>\n",
       "      <td>Sony Pictures|Gravier Productions</td>\n",
       "      <td>7/17/15</td>\n",
       "      <td>319</td>\n",
       "      <td>6.1</td>\n",
       "      <td>2015</td>\n",
       "    </tr>\n",
       "    <tr>\n",
       "      <th>160</th>\n",
       "      <td>304372</td>\n",
       "      <td>0.950793</td>\n",
       "      <td>12000000</td>\n",
       "      <td>60273173</td>\n",
       "      <td>The Perfect Guy</td>\n",
       "      <td>David M. Rosenthal</td>\n",
       "      <td>NaN</td>\n",
       "      <td>100</td>\n",
       "      <td>Drama|Thriller</td>\n",
       "      <td>Screen Gems</td>\n",
       "      <td>9/11/15</td>\n",
       "      <td>122</td>\n",
       "      <td>5.6</td>\n",
       "      <td>2015</td>\n",
       "    </tr>\n",
       "  </tbody>\n",
       "</table>\n",
       "</div>"
      ],
      "text/plain": [
       "         id  popularity    budget   revenue            original_title  \\\n",
       "130  245706    1.284541         0   4719695                True Story   \n",
       "149  346808    1.041922  20000000         0                  Momentum   \n",
       "154  314405    1.008474  12000000         0  Il racconto dei racconti   \n",
       "155  282984    1.007054  11000000  27391084            Irrational Man   \n",
       "160  304372    0.950793  12000000  60273173           The Perfect Guy   \n",
       "\n",
       "                  director keywords  runtime                  genres  \\\n",
       "130           Rupert Goold      NaN      100     Crime|Drama|Mystery   \n",
       "149  Stephen S. Campanelli      NaN       96         Thriller|Action   \n",
       "154         Matteo Garrone      NaN      125  Romance|Fantasy|Horror   \n",
       "155            Woody Allen      NaN       95           Mystery|Drama   \n",
       "160     David M. Rosenthal      NaN      100          Drama|Thriller   \n",
       "\n",
       "                                  production_companies release_date  \\\n",
       "130  Plan B Entertainment|Regency Enterprises|New R...      4/17/15   \n",
       "149                            Thaba Media|Azari Media       8/1/15   \n",
       "154  HanWay Films|Rai Cinema|Le Pacte|Fonds Eurimag...      5/14/15   \n",
       "155                  Sony Pictures|Gravier Productions      7/17/15   \n",
       "160                                        Screen Gems      9/11/15   \n",
       "\n",
       "     vote_count  vote_average  release_year  \n",
       "130         354           6.0          2015  \n",
       "149         100           5.8          2015  \n",
       "154         211           5.7          2015  \n",
       "155         319           6.1          2015  \n",
       "160         122           5.6          2015  "
      ]
     },
     "metadata": {},
     "output_type": "display_data"
    }
   ],
   "source": [
    "#check for nulls\n",
    "nan_df = clean_db[clean_db.isna().any(axis=1)]\n",
    "display(nan_df.head())"
   ]
  },
  {
   "cell_type": "code",
   "execution_count": 15,
   "metadata": {},
   "outputs": [],
   "source": [
    "#drop nulls\n",
    "clean_db = clean_db.dropna().reset_index()"
   ]
  },
  {
   "cell_type": "code",
   "execution_count": 16,
   "metadata": {
    "scrolled": true
   },
   "outputs": [
    {
     "data": {
      "text/plain": [
       "(8691, 15)"
      ]
     },
     "execution_count": 16,
     "metadata": {},
     "output_type": "execute_result"
    }
   ],
   "source": [
    "#shape after null drop\n",
    "clean_db.shape"
   ]
  },
  {
   "cell_type": "code",
   "execution_count": 17,
   "metadata": {},
   "outputs": [],
   "source": [
    "#Split columns with '|' character to create a list so that it can be exploded later on\n",
    "split_columns = ['keywords', 'genres', 'production_companies']\n",
    "\n",
    "for c in split_columns:\n",
    "    clean_db[c] = clean_db[c].apply(lambda x: x.split(\"|\"))"
   ]
  },
  {
   "cell_type": "code",
   "execution_count": 18,
   "metadata": {},
   "outputs": [
    {
     "data": {
      "text/html": [
       "<div>\n",
       "<style scoped>\n",
       "    .dataframe tbody tr th:only-of-type {\n",
       "        vertical-align: middle;\n",
       "    }\n",
       "\n",
       "    .dataframe tbody tr th {\n",
       "        vertical-align: top;\n",
       "    }\n",
       "\n",
       "    .dataframe thead th {\n",
       "        text-align: right;\n",
       "    }\n",
       "</style>\n",
       "<table border=\"1\" class=\"dataframe\">\n",
       "  <thead>\n",
       "    <tr style=\"text-align: right;\">\n",
       "      <th></th>\n",
       "      <th>index</th>\n",
       "      <th>id</th>\n",
       "      <th>popularity</th>\n",
       "      <th>budget</th>\n",
       "      <th>revenue</th>\n",
       "      <th>original_title</th>\n",
       "      <th>director</th>\n",
       "      <th>keywords</th>\n",
       "      <th>runtime</th>\n",
       "      <th>genres</th>\n",
       "      <th>production_companies</th>\n",
       "      <th>release_date</th>\n",
       "      <th>vote_count</th>\n",
       "      <th>vote_average</th>\n",
       "      <th>release_year</th>\n",
       "    </tr>\n",
       "  </thead>\n",
       "  <tbody>\n",
       "    <tr>\n",
       "      <th>0</th>\n",
       "      <td>0</td>\n",
       "      <td>135397</td>\n",
       "      <td>32.985763</td>\n",
       "      <td>150000000</td>\n",
       "      <td>1513528810</td>\n",
       "      <td>Jurassic World</td>\n",
       "      <td>Colin Trevorrow</td>\n",
       "      <td>[monster, dna, tyrannosaurus rex, velociraptor...</td>\n",
       "      <td>124</td>\n",
       "      <td>[Action, Adventure, Science Fiction, Thriller]</td>\n",
       "      <td>[Universal Studios, Amblin Entertainment, Lege...</td>\n",
       "      <td>6/9/15</td>\n",
       "      <td>5562</td>\n",
       "      <td>6.5</td>\n",
       "      <td>2015</td>\n",
       "    </tr>\n",
       "  </tbody>\n",
       "</table>\n",
       "</div>"
      ],
      "text/plain": [
       "   index      id  popularity     budget     revenue  original_title  \\\n",
       "0      0  135397   32.985763  150000000  1513528810  Jurassic World   \n",
       "\n",
       "          director                                           keywords  \\\n",
       "0  Colin Trevorrow  [monster, dna, tyrannosaurus rex, velociraptor...   \n",
       "\n",
       "   runtime                                          genres  \\\n",
       "0      124  [Action, Adventure, Science Fiction, Thriller]   \n",
       "\n",
       "                                production_companies release_date  vote_count  \\\n",
       "0  [Universal Studios, Amblin Entertainment, Lege...       6/9/15        5562   \n",
       "\n",
       "   vote_average  release_year  \n",
       "0           6.5          2015  "
      ]
     },
     "execution_count": 18,
     "metadata": {},
     "output_type": "execute_result"
    }
   ],
   "source": [
    "clean_db.head(1)"
   ]
  },
  {
   "cell_type": "code",
   "execution_count": 19,
   "metadata": {},
   "outputs": [],
   "source": [
    "#drop rows where budget is 0 or 1 and revenue is 0\n",
    "clean_db = clean_db.query('budget > 1 & revenue > 0')"
   ]
  },
  {
   "cell_type": "code",
   "execution_count": 20,
   "metadata": {},
   "outputs": [
    {
     "data": {
      "text/plain": [
       "(3677, 15)"
      ]
     },
     "execution_count": 20,
     "metadata": {},
     "output_type": "execute_result"
    }
   ],
   "source": [
    "clean_db.shape"
   ]
  },
  {
   "cell_type": "code",
   "execution_count": 21,
   "metadata": {},
   "outputs": [],
   "source": [
    "#transform release date to proper datetime format\n",
    "clean_db['release_date'] = pd.to_datetime(clean_db['release_date'])"
   ]
  },
  {
   "cell_type": "code",
   "execution_count": 22,
   "metadata": {},
   "outputs": [],
   "source": [
    "#create month column\n",
    "clean_db['month'] = clean_db['release_date'].dt.month"
   ]
  },
  {
   "cell_type": "code",
   "execution_count": 23,
   "metadata": {},
   "outputs": [],
   "source": [
    "#drop more unused columns\n",
    "clean_db = clean_db.drop(['index', 'id','release_date'], axis=1)"
   ]
  },
  {
   "cell_type": "code",
   "execution_count": 42,
   "metadata": {},
   "outputs": [
    {
     "name": "stdout",
     "output_type": "stream",
     "text": [
      "<class 'pandas.core.frame.DataFrame'>\n",
      "Int64Index: 3677 entries, 0 to 8674\n",
      "Data columns (total 15 columns):\n",
      " #   Column                Non-Null Count  Dtype  \n",
      "---  ------                --------------  -----  \n",
      " 0   popularity            3677 non-null   float64\n",
      " 1   budget                3677 non-null   int64  \n",
      " 2   revenue               3677 non-null   int64  \n",
      " 3   original_title        3677 non-null   object \n",
      " 4   director              3677 non-null   object \n",
      " 5   keywords              3677 non-null   object \n",
      " 6   runtime               3677 non-null   int64  \n",
      " 7   genres                3677 non-null   object \n",
      " 8   production_companies  3677 non-null   object \n",
      " 9   vote_count            3677 non-null   int64  \n",
      " 10  vote_average          3677 non-null   float64\n",
      " 11  release_year          3677 non-null   int64  \n",
      " 12  month                 3677 non-null   int64  \n",
      " 13  profit                3677 non-null   int64  \n",
      " 14  made_profit           3677 non-null   bool   \n",
      "dtypes: bool(1), float64(2), int64(7), object(5)\n",
      "memory usage: 434.5+ KB\n"
     ]
    }
   ],
   "source": [
    "clean_db.info()"
   ]
  },
  {
   "cell_type": "markdown",
   "metadata": {
    "jp-MarkdownHeadingCollapsed": true,
    "tags": []
   },
   "source": [
    "### What was done:\n",
    "\n",
    "><ul>\n",
    "    <li>Checked for duplicate rows and dropped the only one present.</li>\n",
    "    <li>Dropped the following columns that would not be useful in our analysis process: 'imdb_id', 'cast', 'homepage', 'tagline', 'overview','budget_adj','revenue_adj'</li>\n",
    "    <li>Checked for null rows and dropped them.</li>\n",
    "    <li>Reseted the index for proper indexation.</li>\n",
    "    <li>Split columns that had data separated by a \"|\" character and transformed them in lists, to be able to \"explode\" them later on.</li>\n",
    "    <li>Dropped rows where the budget and revenue numbers were 0 or 1.</li>\n",
    "    <li>Transformed the \"release_date\" column into a datetime format to facilitate working with it if needed.</li>\n",
    "    <li>Created a column for month, since there was already a present \"release_year\" column, since the release day was not usefull.</li>\n",
    "    <li>Dropped more unhelpful columns : 'index', 'id','release_date'</li>\n",
    "   </ul> \n",
    "    \n",
    "    "
   ]
  },
  {
   "cell_type": "markdown",
   "metadata": {
    "tags": []
   },
   "source": [
    "<a id='eda'></a>\n",
    "## Data Analysis\n"
   ]
  },
  {
   "cell_type": "markdown",
   "metadata": {
    "tags": []
   },
   "source": [
    "<a id='1'></a>\n",
    "### 1. General Revenue Information"
   ]
  },
  {
   "cell_type": "code",
   "execution_count": 25,
   "metadata": {},
   "outputs": [
    {
     "data": {
      "text/plain": [
       "count    3.677000e+03\n",
       "mean     1.114405e+08\n",
       "std      1.793625e+08\n",
       "min      2.000000e+00\n",
       "25%      1.489942e+07\n",
       "50%      4.806344e+07\n",
       "75%      1.298324e+08\n",
       "max      2.781506e+09\n",
       "Name: revenue, dtype: float64"
      ]
     },
     "execution_count": 25,
     "metadata": {},
     "output_type": "execute_result"
    }
   ],
   "source": [
    "clean_db['revenue'].describe()"
   ]
  },
  {
   "cell_type": "code",
   "execution_count": 26,
   "metadata": {},
   "outputs": [
    {
     "data": {
      "text/plain": [
       "Text(0.5, 1.0, 'revenue distribution')"
      ]
     },
     "execution_count": 26,
     "metadata": {},
     "output_type": "execute_result"
    },
    {
     "data": {
      "image/png": "[encoded data removed]",
      "text/plain": [
       "<Figure size 432x288 with 1 Axes>"
      ]
     },
     "metadata": {
      "needs_background": "light"
     },
     "output_type": "display_data"
    }
   ],
   "source": [
    "clean_db.boxplot(column = 'revenue')\n",
    "plt.title('revenue distribution')"
   ]
  },
  {
   "cell_type": "markdown",
   "metadata": {
    "tags": []
   },
   "source": [
    "#### Brief conclusion:\n",
    "\n",
    "> Only half the movies surpassed the <b>48,063,440 USD</b> mark, even tho the mean is <b>111,440,500 USD</b>. Meaning that there are probably some outliers, like the highest revenue movie, at <b>2,781,060,000 USD</b>."
   ]
  },
  {
   "cell_type": "markdown",
   "metadata": {
    "tags": []
   },
   "source": [
    "<a id='2'></a>\n",
    "### 2. How many movies made a profit"
   ]
  },
  {
   "cell_type": "code",
   "execution_count": 27,
   "metadata": {},
   "outputs": [
    {
     "data": {
      "text/html": [
       "<div>\n",
       "<style scoped>\n",
       "    .dataframe tbody tr th:only-of-type {\n",
       "        vertical-align: middle;\n",
       "    }\n",
       "\n",
       "    .dataframe tbody tr th {\n",
       "        vertical-align: top;\n",
       "    }\n",
       "\n",
       "    .dataframe thead th {\n",
       "        text-align: right;\n",
       "    }\n",
       "</style>\n",
       "<table border=\"1\" class=\"dataframe\">\n",
       "  <thead>\n",
       "    <tr style=\"text-align: right;\">\n",
       "      <th></th>\n",
       "      <th>popularity</th>\n",
       "      <th>budget</th>\n",
       "      <th>revenue</th>\n",
       "      <th>original_title</th>\n",
       "      <th>director</th>\n",
       "      <th>keywords</th>\n",
       "      <th>runtime</th>\n",
       "      <th>genres</th>\n",
       "      <th>production_companies</th>\n",
       "      <th>vote_count</th>\n",
       "      <th>vote_average</th>\n",
       "      <th>release_year</th>\n",
       "      <th>month</th>\n",
       "      <th>profit</th>\n",
       "    </tr>\n",
       "  </thead>\n",
       "  <tbody>\n",
       "    <tr>\n",
       "      <th>0</th>\n",
       "      <td>32.985763</td>\n",
       "      <td>150000000</td>\n",
       "      <td>1513528810</td>\n",
       "      <td>Jurassic World</td>\n",
       "      <td>Colin Trevorrow</td>\n",
       "      <td>[monster, dna, tyrannosaurus rex, velociraptor...</td>\n",
       "      <td>124</td>\n",
       "      <td>[Action, Adventure, Science Fiction, Thriller]</td>\n",
       "      <td>[Universal Studios, Amblin Entertainment, Lege...</td>\n",
       "      <td>5562</td>\n",
       "      <td>6.5</td>\n",
       "      <td>2015</td>\n",
       "      <td>6</td>\n",
       "      <td>1363528810</td>\n",
       "    </tr>\n",
       "    <tr>\n",
       "      <th>1</th>\n",
       "      <td>28.419936</td>\n",
       "      <td>150000000</td>\n",
       "      <td>378436354</td>\n",
       "      <td>Mad Max: Fury Road</td>\n",
       "      <td>George Miller</td>\n",
       "      <td>[future, chase, post-apocalyptic, dystopia, au...</td>\n",
       "      <td>120</td>\n",
       "      <td>[Action, Adventure, Science Fiction, Thriller]</td>\n",
       "      <td>[Village Roadshow Pictures, Kennedy Miller Pro...</td>\n",
       "      <td>6185</td>\n",
       "      <td>7.1</td>\n",
       "      <td>2015</td>\n",
       "      <td>5</td>\n",
       "      <td>228436354</td>\n",
       "    </tr>\n",
       "    <tr>\n",
       "      <th>2</th>\n",
       "      <td>13.112507</td>\n",
       "      <td>110000000</td>\n",
       "      <td>295238201</td>\n",
       "      <td>Insurgent</td>\n",
       "      <td>Robert Schwentke</td>\n",
       "      <td>[based on novel, revolution, dystopia, sequel,...</td>\n",
       "      <td>119</td>\n",
       "      <td>[Adventure, Science Fiction, Thriller]</td>\n",
       "      <td>[Summit Entertainment, Mandeville Films, Red W...</td>\n",
       "      <td>2480</td>\n",
       "      <td>6.3</td>\n",
       "      <td>2015</td>\n",
       "      <td>3</td>\n",
       "      <td>185238201</td>\n",
       "    </tr>\n",
       "    <tr>\n",
       "      <th>3</th>\n",
       "      <td>11.173104</td>\n",
       "      <td>200000000</td>\n",
       "      <td>2068178225</td>\n",
       "      <td>Star Wars: The Force Awakens</td>\n",
       "      <td>J.J. Abrams</td>\n",
       "      <td>[android, spaceship, jedi, space opera, 3d]</td>\n",
       "      <td>136</td>\n",
       "      <td>[Action, Adventure, Science Fiction, Fantasy]</td>\n",
       "      <td>[Lucasfilm, Truenorth Productions, Bad Robot]</td>\n",
       "      <td>5292</td>\n",
       "      <td>7.5</td>\n",
       "      <td>2015</td>\n",
       "      <td>12</td>\n",
       "      <td>1868178225</td>\n",
       "    </tr>\n",
       "    <tr>\n",
       "      <th>4</th>\n",
       "      <td>9.335014</td>\n",
       "      <td>190000000</td>\n",
       "      <td>1506249360</td>\n",
       "      <td>Furious 7</td>\n",
       "      <td>James Wan</td>\n",
       "      <td>[car race, speed, revenge, suspense, car]</td>\n",
       "      <td>137</td>\n",
       "      <td>[Action, Crime, Thriller]</td>\n",
       "      <td>[Universal Pictures, Original Film, Media Righ...</td>\n",
       "      <td>2947</td>\n",
       "      <td>7.3</td>\n",
       "      <td>2015</td>\n",
       "      <td>4</td>\n",
       "      <td>1316249360</td>\n",
       "    </tr>\n",
       "  </tbody>\n",
       "</table>\n",
       "</div>"
      ],
      "text/plain": [
       "   popularity     budget     revenue                original_title  \\\n",
       "0   32.985763  150000000  1513528810                Jurassic World   \n",
       "1   28.419936  150000000   378436354            Mad Max: Fury Road   \n",
       "2   13.112507  110000000   295238201                     Insurgent   \n",
       "3   11.173104  200000000  2068178225  Star Wars: The Force Awakens   \n",
       "4    9.335014  190000000  1506249360                     Furious 7   \n",
       "\n",
       "           director                                           keywords  \\\n",
       "0   Colin Trevorrow  [monster, dna, tyrannosaurus rex, velociraptor...   \n",
       "1     George Miller  [future, chase, post-apocalyptic, dystopia, au...   \n",
       "2  Robert Schwentke  [based on novel, revolution, dystopia, sequel,...   \n",
       "3       J.J. Abrams        [android, spaceship, jedi, space opera, 3d]   \n",
       "4         James Wan          [car race, speed, revenge, suspense, car]   \n",
       "\n",
       "   runtime                                          genres  \\\n",
       "0      124  [Action, Adventure, Science Fiction, Thriller]   \n",
       "1      120  [Action, Adventure, Science Fiction, Thriller]   \n",
       "2      119          [Adventure, Science Fiction, Thriller]   \n",
       "3      136   [Action, Adventure, Science Fiction, Fantasy]   \n",
       "4      137                       [Action, Crime, Thriller]   \n",
       "\n",
       "                                production_companies  vote_count  \\\n",
       "0  [Universal Studios, Amblin Entertainment, Lege...        5562   \n",
       "1  [Village Roadshow Pictures, Kennedy Miller Pro...        6185   \n",
       "2  [Summit Entertainment, Mandeville Films, Red W...        2480   \n",
       "3      [Lucasfilm, Truenorth Productions, Bad Robot]        5292   \n",
       "4  [Universal Pictures, Original Film, Media Righ...        2947   \n",
       "\n",
       "   vote_average  release_year  month      profit  \n",
       "0           6.5          2015      6  1363528810  \n",
       "1           7.1          2015      5   228436354  \n",
       "2           6.3          2015      3   185238201  \n",
       "3           7.5          2015     12  1868178225  \n",
       "4           7.3          2015      4  1316249360  "
      ]
     },
     "execution_count": 27,
     "metadata": {},
     "output_type": "execute_result"
    }
   ],
   "source": [
    "#create column for profits\n",
    "clean_db['profit'] = clean_db['revenue'] - clean_db['budget']\n",
    "clean_db.head()"
   ]
  },
  {
   "cell_type": "code",
   "execution_count": 28,
   "metadata": {},
   "outputs": [],
   "source": [
    "#create column with a boolean value to check if the movie made profit or had a loss\n",
    "clean_db['made_profit'] = np.where(clean_db['profit'] > 0, True, False)"
   ]
  },
  {
   "cell_type": "code",
   "execution_count": 29,
   "metadata": {},
   "outputs": [
    {
     "data": {
      "text/plain": [
       "True     2690\n",
       "False     987\n",
       "Name: made_profit, dtype: int64"
      ]
     },
     "execution_count": 29,
     "metadata": {},
     "output_type": "execute_result"
    }
   ],
   "source": [
    "clean_db['made_profit'].value_counts()"
   ]
  },
  {
   "cell_type": "code",
   "execution_count": 30,
   "metadata": {},
   "outputs": [
    {
     "data": {
      "text/plain": [
       "0.731574653249932"
      ]
     },
     "execution_count": 30,
     "metadata": {},
     "output_type": "execute_result"
    }
   ],
   "source": [
    "# % that made a profit\n",
    "2690/3677"
   ]
  },
  {
   "cell_type": "code",
   "execution_count": 31,
   "metadata": {},
   "outputs": [
    {
     "data": {
      "text/html": [
       "<div>\n",
       "<style scoped>\n",
       "    .dataframe tbody tr th:only-of-type {\n",
       "        vertical-align: middle;\n",
       "    }\n",
       "\n",
       "    .dataframe tbody tr th {\n",
       "        vertical-align: top;\n",
       "    }\n",
       "\n",
       "    .dataframe thead th {\n",
       "        text-align: right;\n",
       "    }\n",
       "</style>\n",
       "<table border=\"1\" class=\"dataframe\">\n",
       "  <thead>\n",
       "    <tr style=\"text-align: right;\">\n",
       "      <th></th>\n",
       "      <th>popularity</th>\n",
       "      <th>budget</th>\n",
       "      <th>revenue</th>\n",
       "      <th>original_title</th>\n",
       "      <th>director</th>\n",
       "      <th>keywords</th>\n",
       "      <th>runtime</th>\n",
       "      <th>genres</th>\n",
       "      <th>production_companies</th>\n",
       "      <th>vote_count</th>\n",
       "      <th>vote_average</th>\n",
       "      <th>release_year</th>\n",
       "      <th>month</th>\n",
       "      <th>profit</th>\n",
       "      <th>made_profit</th>\n",
       "    </tr>\n",
       "  </thead>\n",
       "  <tbody>\n",
       "    <tr>\n",
       "      <th>0</th>\n",
       "      <td>32.985763</td>\n",
       "      <td>150000000</td>\n",
       "      <td>1513528810</td>\n",
       "      <td>Jurassic World</td>\n",
       "      <td>Colin Trevorrow</td>\n",
       "      <td>[monster, dna, tyrannosaurus rex, velociraptor...</td>\n",
       "      <td>124</td>\n",
       "      <td>[Action, Adventure, Science Fiction, Thriller]</td>\n",
       "      <td>[Universal Studios, Amblin Entertainment, Lege...</td>\n",
       "      <td>5562</td>\n",
       "      <td>6.5</td>\n",
       "      <td>2015</td>\n",
       "      <td>6</td>\n",
       "      <td>1363528810</td>\n",
       "      <td>True</td>\n",
       "    </tr>\n",
       "    <tr>\n",
       "      <th>1</th>\n",
       "      <td>28.419936</td>\n",
       "      <td>150000000</td>\n",
       "      <td>378436354</td>\n",
       "      <td>Mad Max: Fury Road</td>\n",
       "      <td>George Miller</td>\n",
       "      <td>[future, chase, post-apocalyptic, dystopia, au...</td>\n",
       "      <td>120</td>\n",
       "      <td>[Action, Adventure, Science Fiction, Thriller]</td>\n",
       "      <td>[Village Roadshow Pictures, Kennedy Miller Pro...</td>\n",
       "      <td>6185</td>\n",
       "      <td>7.1</td>\n",
       "      <td>2015</td>\n",
       "      <td>5</td>\n",
       "      <td>228436354</td>\n",
       "      <td>True</td>\n",
       "    </tr>\n",
       "    <tr>\n",
       "      <th>2</th>\n",
       "      <td>13.112507</td>\n",
       "      <td>110000000</td>\n",
       "      <td>295238201</td>\n",
       "      <td>Insurgent</td>\n",
       "      <td>Robert Schwentke</td>\n",
       "      <td>[based on novel, revolution, dystopia, sequel,...</td>\n",
       "      <td>119</td>\n",
       "      <td>[Adventure, Science Fiction, Thriller]</td>\n",
       "      <td>[Summit Entertainment, Mandeville Films, Red W...</td>\n",
       "      <td>2480</td>\n",
       "      <td>6.3</td>\n",
       "      <td>2015</td>\n",
       "      <td>3</td>\n",
       "      <td>185238201</td>\n",
       "      <td>True</td>\n",
       "    </tr>\n",
       "    <tr>\n",
       "      <th>3</th>\n",
       "      <td>11.173104</td>\n",
       "      <td>200000000</td>\n",
       "      <td>2068178225</td>\n",
       "      <td>Star Wars: The Force Awakens</td>\n",
       "      <td>J.J. Abrams</td>\n",
       "      <td>[android, spaceship, jedi, space opera, 3d]</td>\n",
       "      <td>136</td>\n",
       "      <td>[Action, Adventure, Science Fiction, Fantasy]</td>\n",
       "      <td>[Lucasfilm, Truenorth Productions, Bad Robot]</td>\n",
       "      <td>5292</td>\n",
       "      <td>7.5</td>\n",
       "      <td>2015</td>\n",
       "      <td>12</td>\n",
       "      <td>1868178225</td>\n",
       "      <td>True</td>\n",
       "    </tr>\n",
       "    <tr>\n",
       "      <th>4</th>\n",
       "      <td>9.335014</td>\n",
       "      <td>190000000</td>\n",
       "      <td>1506249360</td>\n",
       "      <td>Furious 7</td>\n",
       "      <td>James Wan</td>\n",
       "      <td>[car race, speed, revenge, suspense, car]</td>\n",
       "      <td>137</td>\n",
       "      <td>[Action, Crime, Thriller]</td>\n",
       "      <td>[Universal Pictures, Original Film, Media Righ...</td>\n",
       "      <td>2947</td>\n",
       "      <td>7.3</td>\n",
       "      <td>2015</td>\n",
       "      <td>4</td>\n",
       "      <td>1316249360</td>\n",
       "      <td>True</td>\n",
       "    </tr>\n",
       "  </tbody>\n",
       "</table>\n",
       "</div>"
      ],
      "text/plain": [
       "   popularity     budget     revenue                original_title  \\\n",
       "0   32.985763  150000000  1513528810                Jurassic World   \n",
       "1   28.419936  150000000   378436354            Mad Max: Fury Road   \n",
       "2   13.112507  110000000   295238201                     Insurgent   \n",
       "3   11.173104  200000000  2068178225  Star Wars: The Force Awakens   \n",
       "4    9.335014  190000000  1506249360                     Furious 7   \n",
       "\n",
       "           director                                           keywords  \\\n",
       "0   Colin Trevorrow  [monster, dna, tyrannosaurus rex, velociraptor...   \n",
       "1     George Miller  [future, chase, post-apocalyptic, dystopia, au...   \n",
       "2  Robert Schwentke  [based on novel, revolution, dystopia, sequel,...   \n",
       "3       J.J. Abrams        [android, spaceship, jedi, space opera, 3d]   \n",
       "4         James Wan          [car race, speed, revenge, suspense, car]   \n",
       "\n",
       "   runtime                                          genres  \\\n",
       "0      124  [Action, Adventure, Science Fiction, Thriller]   \n",
       "1      120  [Action, Adventure, Science Fiction, Thriller]   \n",
       "2      119          [Adventure, Science Fiction, Thriller]   \n",
       "3      136   [Action, Adventure, Science Fiction, Fantasy]   \n",
       "4      137                       [Action, Crime, Thriller]   \n",
       "\n",
       "                                production_companies  vote_count  \\\n",
       "0  [Universal Studios, Amblin Entertainment, Lege...        5562   \n",
       "1  [Village Roadshow Pictures, Kennedy Miller Pro...        6185   \n",
       "2  [Summit Entertainment, Mandeville Films, Red W...        2480   \n",
       "3      [Lucasfilm, Truenorth Productions, Bad Robot]        5292   \n",
       "4  [Universal Pictures, Original Film, Media Righ...        2947   \n",
       "\n",
       "   vote_average  release_year  month      profit  made_profit  \n",
       "0           6.5          2015      6  1363528810         True  \n",
       "1           7.1          2015      5   228436354         True  \n",
       "2           6.3          2015      3   185238201         True  \n",
       "3           7.5          2015     12  1868178225         True  \n",
       "4           7.3          2015      4  1316249360         True  "
      ]
     },
     "execution_count": 31,
     "metadata": {},
     "output_type": "execute_result"
    }
   ],
   "source": [
    "clean_db.head()"
   ]
  },
  {
   "cell_type": "code",
   "execution_count": 32,
   "metadata": {},
   "outputs": [
    {
     "data": {
      "image/png": "[encoded data removed]",
      "text/plain": [
       "<Figure size 432x288 with 1 Axes>"
      ]
     },
     "metadata": {},
     "output_type": "display_data"
    }
   ],
   "source": [
    "#Graph of findings\n",
    "my_data = clean_db['made_profit'].value_counts()\n",
    "my_labels = 'Made profit', 'Had loss'\n",
    "plt.pie(my_data, labels=my_labels, autopct='%1.1f%%')\n",
    "plt.title('% that made profit')\n",
    "plt.axis('equal');"
   ]
  },
  {
   "cell_type": "markdown",
   "metadata": {},
   "source": [
    "#### Brief conclusion:\n",
    "\n",
    "> As stated, 2690 movies made a profit, while 987 had financial losses. This equates to <b>73.2%</b> of all movies having some sort of profit."
   ]
  },
  {
   "cell_type": "markdown",
   "metadata": {
    "tags": []
   },
   "source": [
    "<a id='3'></a>\n",
    "### 3. Genre vs Revenue"
   ]
  },
  {
   "cell_type": "code",
   "execution_count": 33,
   "metadata": {},
   "outputs": [],
   "source": [
    "#explode genres for further analysis\n",
    "genre_db = clean_db.explode('genres')"
   ]
  },
  {
   "cell_type": "code",
   "execution_count": 34,
   "metadata": {},
   "outputs": [
    {
     "data": {
      "text/html": [
       "<div>\n",
       "<style scoped>\n",
       "    .dataframe tbody tr th:only-of-type {\n",
       "        vertical-align: middle;\n",
       "    }\n",
       "\n",
       "    .dataframe tbody tr th {\n",
       "        vertical-align: top;\n",
       "    }\n",
       "\n",
       "    .dataframe thead th {\n",
       "        text-align: right;\n",
       "    }\n",
       "</style>\n",
       "<table border=\"1\" class=\"dataframe\">\n",
       "  <thead>\n",
       "    <tr style=\"text-align: right;\">\n",
       "      <th></th>\n",
       "      <th>popularity</th>\n",
       "      <th>budget</th>\n",
       "      <th>revenue</th>\n",
       "      <th>original_title</th>\n",
       "      <th>director</th>\n",
       "      <th>keywords</th>\n",
       "      <th>runtime</th>\n",
       "      <th>genres</th>\n",
       "      <th>production_companies</th>\n",
       "      <th>vote_count</th>\n",
       "      <th>vote_average</th>\n",
       "      <th>release_year</th>\n",
       "      <th>month</th>\n",
       "      <th>profit</th>\n",
       "      <th>made_profit</th>\n",
       "    </tr>\n",
       "  </thead>\n",
       "  <tbody>\n",
       "    <tr>\n",
       "      <th>0</th>\n",
       "      <td>32.985763</td>\n",
       "      <td>150000000</td>\n",
       "      <td>1513528810</td>\n",
       "      <td>Jurassic World</td>\n",
       "      <td>Colin Trevorrow</td>\n",
       "      <td>[monster, dna, tyrannosaurus rex, velociraptor...</td>\n",
       "      <td>124</td>\n",
       "      <td>Action</td>\n",
       "      <td>[Universal Studios, Amblin Entertainment, Lege...</td>\n",
       "      <td>5562</td>\n",
       "      <td>6.5</td>\n",
       "      <td>2015</td>\n",
       "      <td>6</td>\n",
       "      <td>1363528810</td>\n",
       "      <td>True</td>\n",
       "    </tr>\n",
       "    <tr>\n",
       "      <th>0</th>\n",
       "      <td>32.985763</td>\n",
       "      <td>150000000</td>\n",
       "      <td>1513528810</td>\n",
       "      <td>Jurassic World</td>\n",
       "      <td>Colin Trevorrow</td>\n",
       "      <td>[monster, dna, tyrannosaurus rex, velociraptor...</td>\n",
       "      <td>124</td>\n",
       "      <td>Adventure</td>\n",
       "      <td>[Universal Studios, Amblin Entertainment, Lege...</td>\n",
       "      <td>5562</td>\n",
       "      <td>6.5</td>\n",
       "      <td>2015</td>\n",
       "      <td>6</td>\n",
       "      <td>1363528810</td>\n",
       "      <td>True</td>\n",
       "    </tr>\n",
       "    <tr>\n",
       "      <th>0</th>\n",
       "      <td>32.985763</td>\n",
       "      <td>150000000</td>\n",
       "      <td>1513528810</td>\n",
       "      <td>Jurassic World</td>\n",
       "      <td>Colin Trevorrow</td>\n",
       "      <td>[monster, dna, tyrannosaurus rex, velociraptor...</td>\n",
       "      <td>124</td>\n",
       "      <td>Science Fiction</td>\n",
       "      <td>[Universal Studios, Amblin Entertainment, Lege...</td>\n",
       "      <td>5562</td>\n",
       "      <td>6.5</td>\n",
       "      <td>2015</td>\n",
       "      <td>6</td>\n",
       "      <td>1363528810</td>\n",
       "      <td>True</td>\n",
       "    </tr>\n",
       "    <tr>\n",
       "      <th>0</th>\n",
       "      <td>32.985763</td>\n",
       "      <td>150000000</td>\n",
       "      <td>1513528810</td>\n",
       "      <td>Jurassic World</td>\n",
       "      <td>Colin Trevorrow</td>\n",
       "      <td>[monster, dna, tyrannosaurus rex, velociraptor...</td>\n",
       "      <td>124</td>\n",
       "      <td>Thriller</td>\n",
       "      <td>[Universal Studios, Amblin Entertainment, Lege...</td>\n",
       "      <td>5562</td>\n",
       "      <td>6.5</td>\n",
       "      <td>2015</td>\n",
       "      <td>6</td>\n",
       "      <td>1363528810</td>\n",
       "      <td>True</td>\n",
       "    </tr>\n",
       "    <tr>\n",
       "      <th>1</th>\n",
       "      <td>28.419936</td>\n",
       "      <td>150000000</td>\n",
       "      <td>378436354</td>\n",
       "      <td>Mad Max: Fury Road</td>\n",
       "      <td>George Miller</td>\n",
       "      <td>[future, chase, post-apocalyptic, dystopia, au...</td>\n",
       "      <td>120</td>\n",
       "      <td>Action</td>\n",
       "      <td>[Village Roadshow Pictures, Kennedy Miller Pro...</td>\n",
       "      <td>6185</td>\n",
       "      <td>7.1</td>\n",
       "      <td>2015</td>\n",
       "      <td>5</td>\n",
       "      <td>228436354</td>\n",
       "      <td>True</td>\n",
       "    </tr>\n",
       "  </tbody>\n",
       "</table>\n",
       "</div>"
      ],
      "text/plain": [
       "   popularity     budget     revenue      original_title         director  \\\n",
       "0   32.985763  150000000  1513528810      Jurassic World  Colin Trevorrow   \n",
       "0   32.985763  150000000  1513528810      Jurassic World  Colin Trevorrow   \n",
       "0   32.985763  150000000  1513528810      Jurassic World  Colin Trevorrow   \n",
       "0   32.985763  150000000  1513528810      Jurassic World  Colin Trevorrow   \n",
       "1   28.419936  150000000   378436354  Mad Max: Fury Road    George Miller   \n",
       "\n",
       "                                            keywords  runtime  \\\n",
       "0  [monster, dna, tyrannosaurus rex, velociraptor...      124   \n",
       "0  [monster, dna, tyrannosaurus rex, velociraptor...      124   \n",
       "0  [monster, dna, tyrannosaurus rex, velociraptor...      124   \n",
       "0  [monster, dna, tyrannosaurus rex, velociraptor...      124   \n",
       "1  [future, chase, post-apocalyptic, dystopia, au...      120   \n",
       "\n",
       "            genres                               production_companies  \\\n",
       "0           Action  [Universal Studios, Amblin Entertainment, Lege...   \n",
       "0        Adventure  [Universal Studios, Amblin Entertainment, Lege...   \n",
       "0  Science Fiction  [Universal Studios, Amblin Entertainment, Lege...   \n",
       "0         Thriller  [Universal Studios, Amblin Entertainment, Lege...   \n",
       "1           Action  [Village Roadshow Pictures, Kennedy Miller Pro...   \n",
       "\n",
       "   vote_count  vote_average  release_year  month      profit  made_profit  \n",
       "0        5562           6.5          2015      6  1363528810         True  \n",
       "0        5562           6.5          2015      6  1363528810         True  \n",
       "0        5562           6.5          2015      6  1363528810         True  \n",
       "0        5562           6.5          2015      6  1363528810         True  \n",
       "1        6185           7.1          2015      5   228436354         True  "
      ]
     },
     "execution_count": 34,
     "metadata": {},
     "output_type": "execute_result"
    }
   ],
   "source": [
    "genre_db.head(5)"
   ]
  },
  {
   "cell_type": "code",
   "execution_count": 35,
   "metadata": {},
   "outputs": [
    {
     "data": {
      "text/html": [
       "<div>\n",
       "<style scoped>\n",
       "    .dataframe tbody tr th:only-of-type {\n",
       "        vertical-align: middle;\n",
       "    }\n",
       "\n",
       "    .dataframe tbody tr th {\n",
       "        vertical-align: top;\n",
       "    }\n",
       "\n",
       "    .dataframe thead th {\n",
       "        text-align: right;\n",
       "    }\n",
       "</style>\n",
       "<table border=\"1\" class=\"dataframe\">\n",
       "  <thead>\n",
       "    <tr style=\"text-align: right;\">\n",
       "      <th></th>\n",
       "      <th>popularity</th>\n",
       "      <th>budget</th>\n",
       "      <th>revenue</th>\n",
       "      <th>runtime</th>\n",
       "      <th>vote_count</th>\n",
       "      <th>vote_average</th>\n",
       "      <th>release_year</th>\n",
       "      <th>month</th>\n",
       "      <th>profit</th>\n",
       "      <th>made_profit</th>\n",
       "    </tr>\n",
       "    <tr>\n",
       "      <th>genres</th>\n",
       "      <th></th>\n",
       "      <th></th>\n",
       "      <th></th>\n",
       "      <th></th>\n",
       "      <th></th>\n",
       "      <th></th>\n",
       "      <th></th>\n",
       "      <th></th>\n",
       "      <th></th>\n",
       "      <th></th>\n",
       "    </tr>\n",
       "  </thead>\n",
       "  <tbody>\n",
       "    <tr>\n",
       "      <th>Action</th>\n",
       "      <td>1.608879</td>\n",
       "      <td>5.766337e+07</td>\n",
       "      <td>1.613633e+08</td>\n",
       "      <td>112.115053</td>\n",
       "      <td>832.145733</td>\n",
       "      <td>6.055705</td>\n",
       "      <td>2000.625120</td>\n",
       "      <td>6.768936</td>\n",
       "      <td>1.037000e+08</td>\n",
       "      <td>0.741131</td>\n",
       "    </tr>\n",
       "    <tr>\n",
       "      <th>Adventure</th>\n",
       "      <td>1.907224</td>\n",
       "      <td>7.103662e+07</td>\n",
       "      <td>2.232982e+08</td>\n",
       "      <td>112.953103</td>\n",
       "      <td>981.933793</td>\n",
       "      <td>6.141655</td>\n",
       "      <td>2000.073103</td>\n",
       "      <td>7.062069</td>\n",
       "      <td>1.522616e+08</td>\n",
       "      <td>0.776552</td>\n",
       "    </tr>\n",
       "    <tr>\n",
       "      <th>Animation</th>\n",
       "      <td>1.751683</td>\n",
       "      <td>7.797554e+07</td>\n",
       "      <td>2.627512e+08</td>\n",
       "      <td>89.743590</td>\n",
       "      <td>913.938462</td>\n",
       "      <td>6.404103</td>\n",
       "      <td>2003.933333</td>\n",
       "      <td>7.266667</td>\n",
       "      <td>1.847757e+08</td>\n",
       "      <td>0.820513</td>\n",
       "    </tr>\n",
       "    <tr>\n",
       "      <th>Comedy</th>\n",
       "      <td>1.050939</td>\n",
       "      <td>3.415116e+07</td>\n",
       "      <td>1.014609e+08</td>\n",
       "      <td>101.823161</td>\n",
       "      <td>415.000000</td>\n",
       "      <td>6.042801</td>\n",
       "      <td>2001.477308</td>\n",
       "      <td>6.873239</td>\n",
       "      <td>6.730976e+07</td>\n",
       "      <td>0.754304</td>\n",
       "    </tr>\n",
       "    <tr>\n",
       "      <th>Crime</th>\n",
       "      <td>1.140127</td>\n",
       "      <td>3.341141e+07</td>\n",
       "      <td>8.604954e+07</td>\n",
       "      <td>111.960191</td>\n",
       "      <td>531.307325</td>\n",
       "      <td>6.316401</td>\n",
       "      <td>2000.479299</td>\n",
       "      <td>6.807325</td>\n",
       "      <td>5.263813e+07</td>\n",
       "      <td>0.721338</td>\n",
       "    </tr>\n",
       "    <tr>\n",
       "      <th>Documentary</th>\n",
       "      <td>0.337566</td>\n",
       "      <td>5.621577e+06</td>\n",
       "      <td>2.649353e+07</td>\n",
       "      <td>103.892857</td>\n",
       "      <td>81.464286</td>\n",
       "      <td>6.671429</td>\n",
       "      <td>2005.571429</td>\n",
       "      <td>5.714286</td>\n",
       "      <td>2.087195e+07</td>\n",
       "      <td>0.785714</td>\n",
       "    </tr>\n",
       "    <tr>\n",
       "      <th>Drama</th>\n",
       "      <td>1.031439</td>\n",
       "      <td>2.872189e+07</td>\n",
       "      <td>7.724904e+07</td>\n",
       "      <td>116.284343</td>\n",
       "      <td>431.304139</td>\n",
       "      <td>6.413017</td>\n",
       "      <td>2001.170966</td>\n",
       "      <td>7.420516</td>\n",
       "      <td>4.852716e+07</td>\n",
       "      <td>0.679664</td>\n",
       "    </tr>\n",
       "    <tr>\n",
       "      <th>Family</th>\n",
       "      <td>1.519272</td>\n",
       "      <td>6.427876e+07</td>\n",
       "      <td>2.118906e+08</td>\n",
       "      <td>98.890819</td>\n",
       "      <td>713.709677</td>\n",
       "      <td>6.154342</td>\n",
       "      <td>2001.593052</td>\n",
       "      <td>7.161290</td>\n",
       "      <td>1.476118e+08</td>\n",
       "      <td>0.813896</td>\n",
       "    </tr>\n",
       "    <tr>\n",
       "      <th>Fantasy</th>\n",
       "      <td>1.779804</td>\n",
       "      <td>7.132102e+07</td>\n",
       "      <td>2.217463e+08</td>\n",
       "      <td>107.737662</td>\n",
       "      <td>917.002597</td>\n",
       "      <td>6.075584</td>\n",
       "      <td>2001.070130</td>\n",
       "      <td>7.031169</td>\n",
       "      <td>1.504252e+08</td>\n",
       "      <td>0.753247</td>\n",
       "    </tr>\n",
       "    <tr>\n",
       "      <th>Foreign</th>\n",
       "      <td>0.194631</td>\n",
       "      <td>9.553829e+06</td>\n",
       "      <td>6.545768e+06</td>\n",
       "      <td>116.571429</td>\n",
       "      <td>28.714286</td>\n",
       "      <td>6.514286</td>\n",
       "      <td>1997.571429</td>\n",
       "      <td>6.571429</td>\n",
       "      <td>-3.008060e+06</td>\n",
       "      <td>0.142857</td>\n",
       "    </tr>\n",
       "    <tr>\n",
       "      <th>History</th>\n",
       "      <td>0.980373</td>\n",
       "      <td>4.163849e+07</td>\n",
       "      <td>8.341005e+07</td>\n",
       "      <td>143.040000</td>\n",
       "      <td>425.272000</td>\n",
       "      <td>6.578400</td>\n",
       "      <td>1998.016000</td>\n",
       "      <td>8.552000</td>\n",
       "      <td>4.177157e+07</td>\n",
       "      <td>0.728000</td>\n",
       "    </tr>\n",
       "    <tr>\n",
       "      <th>Horror</th>\n",
       "      <td>0.867882</td>\n",
       "      <td>1.879135e+07</td>\n",
       "      <td>5.826047e+07</td>\n",
       "      <td>99.310112</td>\n",
       "      <td>326.438202</td>\n",
       "      <td>5.731685</td>\n",
       "      <td>1999.521348</td>\n",
       "      <td>6.764045</td>\n",
       "      <td>3.946912e+07</td>\n",
       "      <td>0.743820</td>\n",
       "    </tr>\n",
       "    <tr>\n",
       "      <th>Music</th>\n",
       "      <td>0.933341</td>\n",
       "      <td>2.642587e+07</td>\n",
       "      <td>8.580514e+07</td>\n",
       "      <td>110.817460</td>\n",
       "      <td>292.214286</td>\n",
       "      <td>6.326190</td>\n",
       "      <td>1998.285714</td>\n",
       "      <td>8.126984</td>\n",
       "      <td>5.937927e+07</td>\n",
       "      <td>0.714286</td>\n",
       "    </tr>\n",
       "    <tr>\n",
       "      <th>Mystery</th>\n",
       "      <td>1.150349</td>\n",
       "      <td>3.499948e+07</td>\n",
       "      <td>9.174556e+07</td>\n",
       "      <td>112.032641</td>\n",
       "      <td>499.403561</td>\n",
       "      <td>6.194065</td>\n",
       "      <td>2000.655786</td>\n",
       "      <td>6.854599</td>\n",
       "      <td>5.674608e+07</td>\n",
       "      <td>0.643917</td>\n",
       "    </tr>\n",
       "    <tr>\n",
       "      <th>Romance</th>\n",
       "      <td>0.988306</td>\n",
       "      <td>2.812763e+07</td>\n",
       "      <td>9.009164e+07</td>\n",
       "      <td>110.678914</td>\n",
       "      <td>360.653355</td>\n",
       "      <td>6.205911</td>\n",
       "      <td>2000.897764</td>\n",
       "      <td>7.204473</td>\n",
       "      <td>6.196401e+07</td>\n",
       "      <td>0.720447</td>\n",
       "    </tr>\n",
       "    <tr>\n",
       "      <th>Science Fiction</th>\n",
       "      <td>1.893469</td>\n",
       "      <td>5.671452e+07</td>\n",
       "      <td>1.665636e+08</td>\n",
       "      <td>108.652941</td>\n",
       "      <td>981.311765</td>\n",
       "      <td>6.024314</td>\n",
       "      <td>1999.898039</td>\n",
       "      <td>6.750980</td>\n",
       "      <td>1.098491e+08</td>\n",
       "      <td>0.743137</td>\n",
       "    </tr>\n",
       "    <tr>\n",
       "      <th>TV Movie</th>\n",
       "      <td>0.273628</td>\n",
       "      <td>5.000000e+06</td>\n",
       "      <td>4.200000e+07</td>\n",
       "      <td>89.000000</td>\n",
       "      <td>35.000000</td>\n",
       "      <td>5.600000</td>\n",
       "      <td>1996.000000</td>\n",
       "      <td>5.000000</td>\n",
       "      <td>3.700000e+07</td>\n",
       "      <td>1.000000</td>\n",
       "    </tr>\n",
       "    <tr>\n",
       "      <th>Thriller</th>\n",
       "      <td>1.281398</td>\n",
       "      <td>3.775978e+07</td>\n",
       "      <td>9.975537e+07</td>\n",
       "      <td>109.653448</td>\n",
       "      <td>561.823276</td>\n",
       "      <td>6.077931</td>\n",
       "      <td>2001.137069</td>\n",
       "      <td>6.932759</td>\n",
       "      <td>6.199559e+07</td>\n",
       "      <td>0.704310</td>\n",
       "    </tr>\n",
       "    <tr>\n",
       "      <th>War</th>\n",
       "      <td>1.261136</td>\n",
       "      <td>4.301935e+07</td>\n",
       "      <td>1.085918e+08</td>\n",
       "      <td>131.439655</td>\n",
       "      <td>576.051724</td>\n",
       "      <td>6.585345</td>\n",
       "      <td>1997.586207</td>\n",
       "      <td>7.956897</td>\n",
       "      <td>6.557249e+07</td>\n",
       "      <td>0.758621</td>\n",
       "    </tr>\n",
       "    <tr>\n",
       "      <th>Western</th>\n",
       "      <td>1.143814</td>\n",
       "      <td>5.347871e+07</td>\n",
       "      <td>8.873060e+07</td>\n",
       "      <td>127.078431</td>\n",
       "      <td>556.039216</td>\n",
       "      <td>6.472549</td>\n",
       "      <td>1993.098039</td>\n",
       "      <td>7.411765</td>\n",
       "      <td>3.525189e+07</td>\n",
       "      <td>0.627451</td>\n",
       "    </tr>\n",
       "  </tbody>\n",
       "</table>\n",
       "</div>"
      ],
      "text/plain": [
       "                 popularity        budget       revenue     runtime  \\\n",
       "genres                                                                \n",
       "Action             1.608879  5.766337e+07  1.613633e+08  112.115053   \n",
       "Adventure          1.907224  7.103662e+07  2.232982e+08  112.953103   \n",
       "Animation          1.751683  7.797554e+07  2.627512e+08   89.743590   \n",
       "Comedy             1.050939  3.415116e+07  1.014609e+08  101.823161   \n",
       "Crime              1.140127  3.341141e+07  8.604954e+07  111.960191   \n",
       "Documentary        0.337566  5.621577e+06  2.649353e+07  103.892857   \n",
       "Drama              1.031439  2.872189e+07  7.724904e+07  116.284343   \n",
       "Family             1.519272  6.427876e+07  2.118906e+08   98.890819   \n",
       "Fantasy            1.779804  7.132102e+07  2.217463e+08  107.737662   \n",
       "Foreign            0.194631  9.553829e+06  6.545768e+06  116.571429   \n",
       "History            0.980373  4.163849e+07  8.341005e+07  143.040000   \n",
       "Horror             0.867882  1.879135e+07  5.826047e+07   99.310112   \n",
       "Music              0.933341  2.642587e+07  8.580514e+07  110.817460   \n",
       "Mystery            1.150349  3.499948e+07  9.174556e+07  112.032641   \n",
       "Romance            0.988306  2.812763e+07  9.009164e+07  110.678914   \n",
       "Science Fiction    1.893469  5.671452e+07  1.665636e+08  108.652941   \n",
       "TV Movie           0.273628  5.000000e+06  4.200000e+07   89.000000   \n",
       "Thriller           1.281398  3.775978e+07  9.975537e+07  109.653448   \n",
       "War                1.261136  4.301935e+07  1.085918e+08  131.439655   \n",
       "Western            1.143814  5.347871e+07  8.873060e+07  127.078431   \n",
       "\n",
       "                 vote_count  vote_average  release_year     month  \\\n",
       "genres                                                              \n",
       "Action           832.145733      6.055705   2000.625120  6.768936   \n",
       "Adventure        981.933793      6.141655   2000.073103  7.062069   \n",
       "Animation        913.938462      6.404103   2003.933333  7.266667   \n",
       "Comedy           415.000000      6.042801   2001.477308  6.873239   \n",
       "Crime            531.307325      6.316401   2000.479299  6.807325   \n",
       "Documentary       81.464286      6.671429   2005.571429  5.714286   \n",
       "Drama            431.304139      6.413017   2001.170966  7.420516   \n",
       "Family           713.709677      6.154342   2001.593052  7.161290   \n",
       "Fantasy          917.002597      6.075584   2001.070130  7.031169   \n",
       "Foreign           28.714286      6.514286   1997.571429  6.571429   \n",
       "History          425.272000      6.578400   1998.016000  8.552000   \n",
       "Horror           326.438202      5.731685   1999.521348  6.764045   \n",
       "Music            292.214286      6.326190   1998.285714  8.126984   \n",
       "Mystery          499.403561      6.194065   2000.655786  6.854599   \n",
       "Romance          360.653355      6.205911   2000.897764  7.204473   \n",
       "Science Fiction  981.311765      6.024314   1999.898039  6.750980   \n",
       "TV Movie          35.000000      5.600000   1996.000000  5.000000   \n",
       "Thriller         561.823276      6.077931   2001.137069  6.932759   \n",
       "War              576.051724      6.585345   1997.586207  7.956897   \n",
       "Western          556.039216      6.472549   1993.098039  7.411765   \n",
       "\n",
       "                       profit  made_profit  \n",
       "genres                                      \n",
       "Action           1.037000e+08     0.741131  \n",
       "Adventure        1.522616e+08     0.776552  \n",
       "Animation        1.847757e+08     0.820513  \n",
       "Comedy           6.730976e+07     0.754304  \n",
       "Crime            5.263813e+07     0.721338  \n",
       "Documentary      2.087195e+07     0.785714  \n",
       "Drama            4.852716e+07     0.679664  \n",
       "Family           1.476118e+08     0.813896  \n",
       "Fantasy          1.504252e+08     0.753247  \n",
       "Foreign         -3.008060e+06     0.142857  \n",
       "History          4.177157e+07     0.728000  \n",
       "Horror           3.946912e+07     0.743820  \n",
       "Music            5.937927e+07     0.714286  \n",
       "Mystery          5.674608e+07     0.643917  \n",
       "Romance          6.196401e+07     0.720447  \n",
       "Science Fiction  1.098491e+08     0.743137  \n",
       "TV Movie         3.700000e+07     1.000000  \n",
       "Thriller         6.199559e+07     0.704310  \n",
       "War              6.557249e+07     0.758621  \n",
       "Western          3.525189e+07     0.627451  "
      ]
     },
     "execution_count": 35,
     "metadata": {},
     "output_type": "execute_result"
    }
   ],
   "source": [
    "#mean revenue by genre\n",
    "genre_db.groupby('genres').mean()"
   ]
  },
  {
   "cell_type": "code",
   "execution_count": 36,
   "metadata": {},
   "outputs": [
    {
     "data": {
      "text/plain": [
       "array(['Action', 'Adventure', 'Science Fiction', 'Thriller', 'Fantasy',\n",
       "       'Crime', 'Western', 'Drama', 'Family', 'Animation', 'Comedy',\n",
       "       'Mystery', 'Romance', 'War', 'History', 'Music', 'Horror',\n",
       "       'Documentary', 'Foreign', 'TV Movie'], dtype=object)"
      ]
     },
     "execution_count": 36,
     "metadata": {},
     "output_type": "execute_result"
    }
   ],
   "source": [
    "#unique genres\n",
    "genre = genre_db['genres'].unique()\n",
    "genre"
   ]
  },
  {
   "cell_type": "code",
   "execution_count": 37,
   "metadata": {},
   "outputs": [
    {
     "data": {
      "text/plain": [
       "Text(0.5, 0, 'Genre')"
      ]
     },
     "execution_count": 37,
     "metadata": {},
     "output_type": "execute_result"
    },
    {
     "data": {
      "image/png": "[encoded data removed]",
      "text/plain": [
       "<Figure size 432x288 with 1 Axes>"
      ]
     },
     "metadata": {
      "needs_background": "light"
     },
     "output_type": "display_data"
    }
   ],
   "source": [
    "keys = [genre for genre, df in genre_db.groupby(['genres'])]\n",
    "\n",
    "my_data = genre_db.groupby('genres').mean()['revenue']\n",
    "plt.title('Average revenue per genre')\n",
    "plt.bar(keys, my_data)\n",
    "plt.xticks(genre, rotation='vertical')\n",
    "plt.ylabel('Mean revenue by genre')\n",
    "plt.xlabel('Genre')"
   ]
  },
  {
   "cell_type": "markdown",
   "metadata": {},
   "source": [
    "#### Brief conclusion:\n",
    "\n",
    "> As we can see, in average, the genres that makes more revenue per movie are : <b>Animation, Fantasy, Family and Adventure</b>."
   ]
  },
  {
   "cell_type": "markdown",
   "metadata": {
    "tags": []
   },
   "source": [
    "<a id='4'></a>\n",
    "### 4. Budget vs Revenue Correlation"
   ]
  },
  {
   "cell_type": "code",
   "execution_count": 38,
   "metadata": {},
   "outputs": [],
   "source": [
    "#Linear regression to find the correlation between budget and revenue\n",
    "X = clean_db['revenue'].values.reshape(-1, 1)  # values converts it into a numpy array\n",
    "Y = clean_db['budget'].values.reshape(-1, 1)  # -1 means that calculate the dimension of rows, but have 1 column\n",
    "linear_regressor = LinearRegression()  # create object for the class\n",
    "linear_regressor.fit(X, Y)  # perform linear regression\n",
    "Y_pred = linear_regressor.predict(X)  # make predictions"
   ]
  },
  {
   "cell_type": "code",
   "execution_count": 39,
   "metadata": {
    "tags": []
   },
   "outputs": [
    {
     "data": {
      "image/png": "[encoded data removed]",
      "text/plain": [
       "<Figure size 432x288 with 1 Axes>"
      ]
     },
     "metadata": {
      "needs_background": "light"
     },
     "output_type": "display_data"
    }
   ],
   "source": [
    "plt.scatter(X, Y)\n",
    "plt.plot(X, Y_pred, color='red')\n",
    "plt.title('Revenue vs Budget Correlation')\n",
    "plt.ylabel('Budget')\n",
    "plt.xlabel('Revenue')\n",
    "plt.show()"
   ]
  },
  {
   "cell_type": "code",
   "execution_count": 41,
   "metadata": {},
   "outputs": [
    {
     "data": {
      "text/plain": [
       "0.10262936055874539"
      ]
     },
     "execution_count": 41,
     "metadata": {},
     "output_type": "execute_result"
    }
   ],
   "source": [
    "r2_score(X, Y)"
   ]
  },
  {
   "cell_type": "markdown",
   "metadata": {},
   "source": [
    "#### Brief conclusion:\n",
    "\n",
    "> As we can see, there is a direct correlation between a movie's revenue and its budget. And based on its R2 score of <b> A higher budget generally means a higher revenue</b>"
   ]
  },
  {
   "cell_type": "markdown",
   "metadata": {},
   "source": [
    "<a id='conclusions'></a>\n",
    "## Conclusions\n",
    "\n",
    "> Based on the charts above, it is safe to conclude that certain genres have generated more revenue for the movie industry over time. Specifically, the <b>Animation, Fantasy, Adventure and Family Genres</b>. Also, we saw that higher budgets tend to have higher revenues. This makes intuitive sense since higher budgets can translate to better actors, higher fidelity graphics, stunts and marketing. \n",
    "With the data we can also conclude that most of the movies tend to turn a profit, with <b>73.2%</b> having profited, while <b>26.8%</b> turned to have a loss.\n",
    "\n",
    ">Even tho the dataset covered a span of over 50 years of data, the analysis is limited by the ammount of usable data we were given. We were originally suplied with over 10 thousand row of data, but less than 4000 turned to be useful to the analysis. Since most of the data had Nulls and 0 valuues. It would be interesting to also have data on what was the budget used for(marketing, actors, etc) to further increment our findings.\n",
    "\n",
    ">In furthering this study, I would take a closer look at the correlation between directors and movie revenues, or if sequels tended to have higher revenue than its predecessor. And also if the actors influenced the revenue of the movie.\n"
   ]
  },
  {
   "cell_type": "code",
   "execution_count": null,
   "metadata": {
    "collapsed": true,
    "jupyter": {
     "outputs_hidden": true
    }
   },
   "outputs": [],
   "source": [
    "from subprocess import call\n",
    "call(['python', '-m', 'nbconvert', 'Investigate_a_Dataset.ipynb'])"
   ]
  }
 ],
 "metadata": {
  "kernelspec": {
   "display_name": "Python 3 (ipykernel)",
   "language": "python",
   "name": "python3"
  },
  "language_info": {
   "codemirror_mode": {
    "name": "ipython",
    "version": 3
   },
   "file_extension": ".py",
   "mimetype": "text/x-python",
   "name": "python",
   "nbconvert_exporter": "python",
   "pygments_lexer": "ipython3",
   "version": "3.8.11"
  }
 },
 "nbformat": 4,
 "nbformat_minor": 4
}
